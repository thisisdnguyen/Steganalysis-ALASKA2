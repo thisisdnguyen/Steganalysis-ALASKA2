{
 "cells": [
  {
   "cell_type": "markdown",
   "metadata": {},
   "source": [
    "## **Giới thiệu về đồ án**\n",
    "\n",
    "Đồ án này dựa trên cuộc thi ALASKA2 Image Steganalysis trên Kaggle, tập trung vào việc phát triển các phương pháp hiệu quả và đáng tin cậy để phát hiện dữ liệu bí mật được ẩn trong các hình ảnh kỹ thuật số. Trong đồ án này, nhóm em sẽ sử dụng 2 mô hình để thực hiện công việc trên, đó là mô hình ResNet50 và mô hình EfficientNet-B2.\n",
    "\n",
    "## **Giới thiệu và trình bày chi tiết về bài toán**\n",
    "\n",
    "Bài toán ở đây là người tham gia phát triển các phương pháp hiệu quả để phát hiện dữ liệu bí mật được ẩn trong hình ảnh. Thay vì giới hạn ở một nguồn dữ liệu duy nhất, các hình ảnh được thu thập từ 50 loại máy ảnh khác nhau và xử lý theo nhiều cách, mô phỏng các điều kiện thực tế. Yêu cầu là xây dựng các thuật toán phát hiện mạnh mẽ với tỷ lệ FPR thấp. Đánh giá được thực hiện bằng AUC có trọng số, ưu tiên các mô hình hoạt động tốt trong việc giảm thiểu cảnh báo sai."
   ]
  },
  {
   "cell_type": "markdown",
   "metadata": {},
   "source": [
    "## **Tiền xử lý dữ liệu và trích xuất đặc trưng**\n",
    "\n",
    "Đầu tiên, lấy bộ dữ liệu ALASKA2 Image Steganalysis có sẵn trên Kaggle và đã được chia thành 5 phần: Cover, JMiPOD, JUNIWARD, UERD, và Test. Sau đó chỉ lấy ra 30000 dữ liệu để sử dụng cho bài toán, vì dữ liệu quá lớn sẽ tốn nhiều tài nguyên hơn để huấn luyện. Số lượng dữ liệu trên được phân bố như sau: 15000 dữ liệu thuộc thư mục Cover, 5000 dữ liệu thuộc JMiPOD, 5000 dữ liệu thuộc JUNIWARD, 5000 dữ liệu thuộc UERD. Gán nhãn cho các ảnh trong thư mục Cover là 0, đại diện cho không có mật mã trong hình, và ở 3 thư mục còn lại gán nhãn 1, đại diện cho hình có chứa mật mã. Cuối cùng là lấy ra 5000 dữ liệu trong thư mục Test để sử dụng cho quá trình dự đoán.\n",
    "\n",
    "Sau đó, tổng hợp dữ liệu của 4 tập dữ liệu input lại, xáo trộn và chia ra thành 2 phần bao gồm tập train và tập test với tỉ lệ 80:20.\n",
    "\n",
    "Các bước tiền xử lý dữ liệu được thực hiện như sau:\n",
    "\n",
    "- Bước 1: Mở hình ảnh bằng thư viện PIL\n",
    "\n",
    "- Bước 2: Chuyển kênh màu từ RGB sang YCbCr\n",
    "\n",
    "- Bước 3: Resize hình ảnh về ma trận vuông có kích thước 384 x 384\n",
    "\n",
    "- Bước 4: Chuẩn hóa các giá trị pixel của hình về đoạn [0, 1] bằng cách chia cho 255.0\n",
    "0\n",
    "\n",
    "- Bước 5: Đổi thứ tự kênh từ (H, W, C) sang (C, H, W) để có thể tính toán theo quy ước của thư viện PyTorch.\n",
    "\n",
    "- Bước 6: Chuẩn hóa từng kênh theo mean và std theo quy ước của ImageNet, mỗi phần tử trong mean và std đại diện cho tham số để chuẩn hóa từng kênh, theo công thức $\\frac{T - mean}{std}$ với T là giá trị của kênh.\n",
    "\n"
   ]
  },
  {
   "cell_type": "markdown",
   "metadata": {},
   "source": [
    "## **Xây dựng mô hình**\n",
    "Ở bài tập này, nhóm em sử dụng 2 mô hình là EfficentNet B2 và ResNet50, quá trình xây dựng mô hình như sau:\n",
    "\n",
    "- Bước 1: Khởi tạo mô hình sử dụng trọng số pre-trained.\n",
    "\n",
    "- Bước 2: Tùy chỉnh lớp cuối của mô hình cho bài toán phân loại 2 lớp, vì các mô hình này được huấn luyện trên dataset ImageNet, được sử dụng để phân loại 1000 lớp nên chúng ta cần tùy chỉnh lại lớp cuối để phù hợp với bài toán.\n",
    "\n",
    "- Bước 3: Đóng băng các trọng số của các lớp không phải lớp cuối để không được cập nhật lại trong quá trình lan truyền ngược, từ đó có thể giữ nguyên pre-trained model mà vẫn có thể sử dụng cho bài toán phân loại nhị phân của chúng ta."
   ]
  },
  {
   "cell_type": "code",
   "execution_count": null,
   "metadata": {},
   "outputs": [],
   "source": [
    "import pandas as pd\n",
    "import numpy as np\n",
    "import os\n",
    "import torch\n",
    "import torch.nn.functional as F"
   ]
  },
  {
   "cell_type": "markdown",
   "metadata": {},
   "source": [
    "## Tải dataset và hàm đọc data từ các thư mục"
   ]
  },
  {
   "cell_type": "code",
   "execution_count": 3,
   "metadata": {
    "execution": {
     "iopub.execute_input": "2025-03-03T22:16:42.725476Z",
     "iopub.status.busy": "2025-03-03T22:16:42.725068Z",
     "iopub.status.idle": "2025-03-03T22:16:42.747727Z",
     "shell.execute_reply": "2025-03-03T22:16:42.747042Z",
     "shell.execute_reply.started": "2025-03-03T22:16:42.725440Z"
    },
    "trusted": true
   },
   "outputs": [],
   "source": [
    "base_path = '../input/alaska2-image-steganalysis'\n",
    "\n",
    "def read_images_path(dir_name, label):\n",
    "    folder_path = os.path.join(base_path, dir_name)  # Đường dẫn đến thư mục\n",
    "    return [[os.path.join(folder_path, filename), label] for filename in os.listdir(folder_path)]"
   ]
  },
  {
   "cell_type": "markdown",
   "metadata": {},
   "source": [
    "## Đọc data từ các thư mục chứa data input, sau đó phân bố dữ liệu sao cho phù hợp với các lớp"
   ]
  },
  {
   "cell_type": "code",
   "execution_count": 4,
   "metadata": {
    "execution": {
     "iopub.execute_input": "2025-03-03T22:16:42.749784Z",
     "iopub.status.busy": "2025-03-03T22:16:42.749577Z",
     "iopub.status.idle": "2025-03-03T22:16:46.213381Z",
     "shell.execute_reply": "2025-03-03T22:16:46.212427Z",
     "shell.execute_reply.started": "2025-03-03T22:16:42.749765Z"
    },
    "trusted": true
   },
   "outputs": [],
   "source": [
    "sample_size = 15000\n",
    "\n",
    "cover_img = read_images_path('Cover', 0)[:sample_size]\n",
    "jmipod_img = read_images_path('JMiPOD', 1)[:(sample_size//3)]\n",
    "juniward_img = read_images_path('JUNIWARD', 1)[:(sample_size//3)]\n",
    "uerd_img = read_images_path('UERD', 1)[:(sample_size//3)]\n",
    "\n",
    "test_img = read_images_path('Test', 0.7)\n",
    "\n",
    "data = cover_img + jmipod_img + juniward_img + uerd_img\n",
    "df = pd.DataFrame(data=data, columns=['path', 'label'])\n",
    "\n",
    "test = pd.DataFrame(data=test_img, columns=['path', 'label'])"
   ]
  },
  {
   "cell_type": "markdown",
   "metadata": {},
   "source": [
    "## Chia dữ liệu thành tập train và tập val"
   ]
  },
  {
   "cell_type": "code",
   "execution_count": 5,
   "metadata": {
    "execution": {
     "iopub.execute_input": "2025-03-03T22:16:46.214892Z",
     "iopub.status.busy": "2025-03-03T22:16:46.214661Z",
     "iopub.status.idle": "2025-03-03T22:16:46.236109Z",
     "shell.execute_reply": "2025-03-03T22:16:46.235456Z",
     "shell.execute_reply.started": "2025-03-03T22:16:46.214873Z"
    },
    "trusted": true
   },
   "outputs": [],
   "source": [
    "def split_dataframe(df, ratio):\n",
    "    # Xáo trộn dữ liệu để đảm bảo tính ngẫu nhiên\n",
    "    df = df.sample(frac=1).reset_index(drop=True)\n",
    "    \n",
    "    # Chia dữ liệu thành hai phần\n",
    "    split_point = int(len(df) * ratio)\n",
    "    return df.iloc[:split_point], df.iloc[split_point:]\n",
    "\n",
    "train, val = split_dataframe(df, 0.8)"
   ]
  },
  {
   "cell_type": "code",
   "execution_count": 6,
   "metadata": {
    "execution": {
     "iopub.execute_input": "2025-03-03T22:16:46.237318Z",
     "iopub.status.busy": "2025-03-03T22:16:46.236976Z",
     "iopub.status.idle": "2025-03-03T22:16:46.270142Z",
     "shell.execute_reply": "2025-03-03T22:16:46.269448Z",
     "shell.execute_reply.started": "2025-03-03T22:16:46.237294Z"
    },
    "trusted": true
   },
   "outputs": [
    {
     "data": {
      "text/html": [
       "<div>\n",
       "<style scoped>\n",
       "    .dataframe tbody tr th:only-of-type {\n",
       "        vertical-align: middle;\n",
       "    }\n",
       "\n",
       "    .dataframe tbody tr th {\n",
       "        vertical-align: top;\n",
       "    }\n",
       "\n",
       "    .dataframe thead th {\n",
       "        text-align: right;\n",
       "    }\n",
       "</style>\n",
       "<table border=\"1\" class=\"dataframe\">\n",
       "  <thead>\n",
       "    <tr style=\"text-align: right;\">\n",
       "      <th></th>\n",
       "      <th>path</th>\n",
       "      <th>label</th>\n",
       "    </tr>\n",
       "  </thead>\n",
       "  <tbody>\n",
       "    <tr>\n",
       "      <th>0</th>\n",
       "      <td>../input/alaska2-image-steganalysis/JMiPOD/357...</td>\n",
       "      <td>1</td>\n",
       "    </tr>\n",
       "    <tr>\n",
       "      <th>1</th>\n",
       "      <td>../input/alaska2-image-steganalysis/Cover/6485...</td>\n",
       "      <td>0</td>\n",
       "    </tr>\n",
       "    <tr>\n",
       "      <th>2</th>\n",
       "      <td>../input/alaska2-image-steganalysis/Cover/4958...</td>\n",
       "      <td>0</td>\n",
       "    </tr>\n",
       "    <tr>\n",
       "      <th>3</th>\n",
       "      <td>../input/alaska2-image-steganalysis/Cover/7276...</td>\n",
       "      <td>0</td>\n",
       "    </tr>\n",
       "    <tr>\n",
       "      <th>4</th>\n",
       "      <td>../input/alaska2-image-steganalysis/Cover/1449...</td>\n",
       "      <td>0</td>\n",
       "    </tr>\n",
       "    <tr>\n",
       "      <th>...</th>\n",
       "      <td>...</td>\n",
       "      <td>...</td>\n",
       "    </tr>\n",
       "    <tr>\n",
       "      <th>23995</th>\n",
       "      <td>../input/alaska2-image-steganalysis/Cover/2653...</td>\n",
       "      <td>0</td>\n",
       "    </tr>\n",
       "    <tr>\n",
       "      <th>23996</th>\n",
       "      <td>../input/alaska2-image-steganalysis/JMiPOD/289...</td>\n",
       "      <td>1</td>\n",
       "    </tr>\n",
       "    <tr>\n",
       "      <th>23997</th>\n",
       "      <td>../input/alaska2-image-steganalysis/UERD/41804...</td>\n",
       "      <td>1</td>\n",
       "    </tr>\n",
       "    <tr>\n",
       "      <th>23998</th>\n",
       "      <td>../input/alaska2-image-steganalysis/JMiPOD/130...</td>\n",
       "      <td>1</td>\n",
       "    </tr>\n",
       "    <tr>\n",
       "      <th>23999</th>\n",
       "      <td>../input/alaska2-image-steganalysis/Cover/7724...</td>\n",
       "      <td>0</td>\n",
       "    </tr>\n",
       "  </tbody>\n",
       "</table>\n",
       "<p>24000 rows × 2 columns</p>\n",
       "</div>"
      ],
      "text/plain": [
       "                                                    path  label\n",
       "0      ../input/alaska2-image-steganalysis/JMiPOD/357...      1\n",
       "1      ../input/alaska2-image-steganalysis/Cover/6485...      0\n",
       "2      ../input/alaska2-image-steganalysis/Cover/4958...      0\n",
       "3      ../input/alaska2-image-steganalysis/Cover/7276...      0\n",
       "4      ../input/alaska2-image-steganalysis/Cover/1449...      0\n",
       "...                                                  ...    ...\n",
       "23995  ../input/alaska2-image-steganalysis/Cover/2653...      0\n",
       "23996  ../input/alaska2-image-steganalysis/JMiPOD/289...      1\n",
       "23997  ../input/alaska2-image-steganalysis/UERD/41804...      1\n",
       "23998  ../input/alaska2-image-steganalysis/JMiPOD/130...      1\n",
       "23999  ../input/alaska2-image-steganalysis/Cover/7724...      0\n",
       "\n",
       "[24000 rows x 2 columns]"
      ]
     },
     "execution_count": 6,
     "metadata": {},
     "output_type": "execute_result"
    }
   ],
   "source": [
    "train"
   ]
  },
  {
   "cell_type": "markdown",
   "metadata": {},
   "source": [
    "## Hàm tiền xử lý dữ liệu\n",
    "\n",
    "- Bước 1: Mở hình ảnh bằng thư viện PIL\n",
    "\n",
    "- Bước 2: Chuyển kênh màu từ RGB sang YCbCr\n",
    "\n",
    "- Bước 3: Resize hình ảnh về ma trận vuông có kích thước 384 x 384\n",
    "\n",
    "- Bước 4: Chuẩn hóa các giá trị pixel của hình về đoạn [0, 1] bằng cách chia cho 255.0\n",
    "0\n",
    "\n",
    "- Bước 5: Đổi thứ tự kênh từ (H, W, C) sang (C, H, W) để có thể tính toán theo quy ước của thư viện PyTorch.\n",
    "\n",
    "- Bước 6: Chuẩn hóa từng kênh theo mean và std theo quy ước của ImageNet, mỗi phần tử trong mean và std đại diện cho tham số để chuẩn hóa từng kênh, theo công thức $\\frac{T - mean}{std}$ với T là giá trị của kênh."
   ]
  },
  {
   "cell_type": "code",
   "execution_count": 7,
   "metadata": {
    "execution": {
     "iopub.execute_input": "2025-03-03T22:16:46.271319Z",
     "iopub.status.busy": "2025-03-03T22:16:46.271048Z",
     "iopub.status.idle": "2025-03-03T22:16:46.280105Z",
     "shell.execute_reply": "2025-03-03T22:16:46.279357Z",
     "shell.execute_reply.started": "2025-03-03T22:16:46.271298Z"
    },
    "trusted": true
   },
   "outputs": [],
   "source": [
    "from PIL import Image\n",
    "def preprocess_image(image_path, size=(384, 384), mean=[0.485, 0.456, 0.406], std=[0.229, 0.224, 0.225]):\n",
    "    \n",
    "    # Bước 1: Tải hình ảnh bằng PIL\n",
    "    img = Image.open(image_path)\n",
    "    \n",
    "    # Bước 2: Chuyển đổi không gian màu sang YCbCr\n",
    "    img = img.convert(\"YCbCr\")\n",
    "    \n",
    "    # Bước 3: Resize hình ảnh về kích thước cố định\n",
    "    img = img.resize(size)\n",
    "    \n",
    "    # Bước 4: Chuyển đổi thành numpy array và chuẩn hóa giá trị pixel về [0, 1]\n",
    "    img_array = np.array(img, dtype=np.float32) / 255.0\n",
    "    \n",
    "    # Đổi thứ tự kênh từ (H, W, C) sang (C, H, W)\n",
    "    img_array = np.transpose(img_array, (2, 0, 1))\n",
    "    \n",
    "    # Chuyển thành tensor PyTorch\n",
    "    img_tensor = torch.tensor(img_array)\n",
    "    \n",
    "    # Chuẩn hóa từng kênh bằng mean và std\n",
    "    for t, m, s in zip(img_tensor, mean, std):\n",
    "        t.sub_(m).div_(s)\n",
    "    \n",
    "    return img_tensor\n",
    "\n",
    "def load_image(path):\n",
    "    img = preprocess_image(path)\n",
    "    return img\n"
   ]
  },
  {
   "cell_type": "markdown",
   "metadata": {},
   "source": [
    "## Tải model ResNet50 từ PyTorch\n",
    "\n",
    "Nếu có nhân cuda thì sử dụng GPU, nếu không thì sử dụng CPU cho quá trình train\n",
    "\n",
    "- Bước 1: Khởi tạo mô hình sử dụng trọng số pre-trained.\n",
    "\n",
    "- Bước 2: Tùy chỉnh lớp cuối của mô hình cho bài toán phân loại 2 lớp, vì các mô hình này được huấn luyện trên dataset ImageNet, được sử dụng để phân loại 1000 lớp nên chúng ta cần tùy chỉnh lại lớp cuối để phù hợp với bài toán.\n",
    "\n",
    "- Bước 3: Đóng băng các trọng số của các lớp không phải lớp cuối để không được cập nhật lại trong quá trình lan truyền ngược, từ đó có thể giữ nguyên pre-trained model mà vẫn có thể sử dụng cho bài toán phân loại nhị phân của chúng ta.\n",
    "\n",
    "- Bước 4: Đưa mô hình lên thiết bị để sử dụng"
   ]
  },
  {
   "cell_type": "code",
   "execution_count": 8,
   "metadata": {
    "execution": {
     "iopub.execute_input": "2025-03-03T22:16:46.281263Z",
     "iopub.status.busy": "2025-03-03T22:16:46.280977Z",
     "iopub.status.idle": "2025-03-03T22:16:51.421903Z",
     "shell.execute_reply": "2025-03-03T22:16:51.420880Z",
     "shell.execute_reply.started": "2025-03-03T22:16:46.281242Z"
    },
    "trusted": true
   },
   "outputs": [
    {
     "name": "stdout",
     "output_type": "stream",
     "text": [
      "CUDA is available. Using GPU.\n"
     ]
    },
    {
     "name": "stderr",
     "output_type": "stream",
     "text": [
      "/usr/local/lib/python3.10/dist-packages/torchvision/models/_utils.py:208: UserWarning: The parameter 'pretrained' is deprecated since 0.13 and may be removed in the future, please use 'weights' instead.\n",
      "  warnings.warn(\n",
      "/usr/local/lib/python3.10/dist-packages/torchvision/models/_utils.py:223: UserWarning: Arguments other than a weight enum or `None` for 'weights' are deprecated since 0.13 and may be removed in the future. The current behavior is equivalent to passing `weights=ResNet50_Weights.IMAGENET1K_V1`. You can also use `weights=ResNet50_Weights.DEFAULT` to get the most up-to-date weights.\n",
      "  warnings.warn(msg)\n",
      "Downloading: \"https://download.pytorch.org/models/resnet50-0676ba61.pth\" to /root/.cache/torch/hub/checkpoints/resnet50-0676ba61.pth\n",
      "100%|██████████| 97.8M/97.8M [00:00<00:00, 163MB/s] \n"
     ]
    },
    {
     "name": "stdout",
     "output_type": "stream",
     "text": [
      "ResNet50 model has been customized and is ready!\n"
     ]
    }
   ],
   "source": [
    "from torchvision.models import resnet50\n",
    "if torch.cuda.is_available():\n",
    "    device = torch.device('cuda')\n",
    "    print(\"CUDA is available. Using GPU.\")\n",
    "else:\n",
    "    device = torch.device('cpu')\n",
    "    print(\"CUDA is not available. Using CPU.\")\n",
    "\n",
    "# Khởi tạo mô hình ResNet50 với trọng số pre-trained\n",
    "resnet_model = resnet50(pretrained=True)\n",
    "\n",
    "# Tùy chỉnh lớp cuối cùng của mô hình\n",
    "num_classes = 2  # Số lượng lớp trong bài toán (phân loại nhị phân)\n",
    "resnet_model.fc = torch.nn.Sequential(\n",
    "    torch.nn.Linear(resnet_model.fc.in_features, num_classes)\n",
    ")\n",
    "\n",
    "# Đóng băng các tham số trong phần backbone\n",
    "for name, param in resnet_model.named_parameters():\n",
    "    if \"fc\" not in name:  # Chỉ giữ nguyên các lớp không phải classifier\n",
    "        param.requires_grad = False\n",
    "\n",
    "# Đưa mô hình lên thiết bị\n",
    "resnet_model.to(device)\n",
    "\n",
    "# Chuyển sang chế độ đánh giá\n",
    "resnet_model.eval()\n",
    "\n",
    "print(\"ResNet50 model has been customized and is ready!\")\n"
   ]
  },
  {
   "cell_type": "markdown",
   "metadata": {},
   "source": [
    "## Đọc và load data để sử dụng cho quá trình train\n",
    "\n",
    "- Tạo class cho các dataset cần đọc, class này sẽ chứa thông tin về đường dẫn và nhãn của ảnh, sau đó là tiền xử lý ảnh.\n",
    "\n",
    "- Khởi tạo các tham số cần thiết cho quá trình train.\n",
    "\n",
    "- Sử dụng optimizer Adam cho model, với learning rate = 0.0001\n",
    "\n",
    "- Tạo iterator để tải dữ liệu cho quá trình train bằng DataLoader của PyTorch\n"
   ]
  },
  {
   "cell_type": "code",
   "execution_count": 9,
   "metadata": {
    "execution": {
     "iopub.execute_input": "2025-03-03T22:16:51.423460Z",
     "iopub.status.busy": "2025-03-03T22:16:51.422915Z",
     "iopub.status.idle": "2025-03-03T22:16:51.436858Z",
     "shell.execute_reply": "2025-03-03T22:16:51.435940Z",
     "shell.execute_reply.started": "2025-03-03T22:16:51.423426Z"
    },
    "trusted": true
   },
   "outputs": [],
   "source": [
    "from torch.utils.data import Dataset, DataLoader\n",
    "\n",
    "class reader(Dataset):\n",
    "    def __init__(self, image_paths, labels):\n",
    "        self.image_paths = image_paths\n",
    "        self.labels = labels\n",
    "\n",
    "    def __len__(self):\n",
    "        return len(self.image_paths)\n",
    "\n",
    "    def __getitem__(self, index):\n",
    "        # Lấy đường dẫn ảnh và nhãn\n",
    "        img_path = self.image_paths[index]\n",
    "        label = self.labels[index]\n",
    "\n",
    "        # Sử dụng hàm preprocess_image\n",
    "        image = preprocess_image(img_path)\n",
    "\n",
    "        return image, label\n",
    "\n",
    "BATCHSIZE = 256\n",
    "EPOCHS = 10\n",
    "LR = 0.0001\n",
    "WEIGHT_DECAY = 0\n",
    "WEIGHTS = torch.tensor([4, 1], dtype=torch.float32).to(device)\n",
    "\n",
    "optimizer = torch.optim.Adam(resnet_model.parameters(), lr=LR, weight_decay=WEIGHT_DECAY)\n",
    "\n",
    "# Tạo dataset cho train và validation\n",
    "train_dataset = reader(train['path'].tolist(), train['label'].tolist())\n",
    "val_dataset = reader(val['path'].tolist(), val['label'].tolist())\n",
    "\n",
    "# Tạo DataLoader\n",
    "train_dataloader = DataLoader(train_dataset, batch_size=BATCHSIZE, shuffle=True, num_workers=2, pin_memory=True)\n",
    "val_dataloader = DataLoader(val_dataset, batch_size=BATCHSIZE, shuffle=False, num_workers=2, pin_memory=True)\n"
   ]
  },
  {
   "cell_type": "markdown",
   "metadata": {},
   "source": [
    "## Tính toán metric Weighted AUC\n",
    "\n",
    "- Bước 1: Tính False Positive Rate, True Positive Rate bằng hàm roc_curve\n",
    "\n",
    "- Bước 2: Chia vùng và tính AUC từng vùng, theo yêu cầu đề bài thì ta có 2 vùng ROC gồm:\n",
    "\n",
    "    - Vùng 1: TPR từ 0.0 đến 0.4\n",
    "\n",
    "    - Vùng 2: TPR từ 0.4 đến 1.0\n",
    "\n",
    "    - Sau đó, chọn ra mask là các điểm có TPR thuộc từng vùng đang cần xem xét\n",
    "\n",
    "    - Tính diện tích dưới đường cong, nghĩa là giá trị AUC bằng nguyên tắc hình thang để tính gần đúng giá trị diện tích đó \n",
    "\n",
    "- Bước 3: Tính Weighted AUC theo công thức \n",
    "$$Weighted\\_AUC = \\frac{\\sum_{i=1}^{n-1} (AUC_i \\cdot w_i)}{\\sum_{i=1}^{n-1} w_i}$$\n",
    "\n",
    "- Hàm calculate_metrics() thực hiện tính toán các metric Weighted AUC và Accuracy dựa trên label của hình ảnh và xác suất, kết quả dự đoán được của mô hình  \n"
   ]
  },
  {
   "cell_type": "code",
   "execution_count": 10,
   "metadata": {
    "execution": {
     "iopub.execute_input": "2025-03-03T22:16:51.438221Z",
     "iopub.status.busy": "2025-03-03T22:16:51.437883Z",
     "iopub.status.idle": "2025-03-03T22:16:52.113413Z",
     "shell.execute_reply": "2025-03-03T22:16:52.112624Z",
     "shell.execute_reply.started": "2025-03-03T22:16:51.438187Z"
    },
    "trusted": true
   },
   "outputs": [],
   "source": [
    "from sklearn.metrics import accuracy_score, roc_curve\n",
    "def weighted_auc(y_true, y_score, tpr_thresholds=[0.0, 0.4, 1.0], weights=[2, 1]):\n",
    "    fpr, tpr, _ = roc_curve(y_true, y_score)\n",
    "    \n",
    "    # Tính AUC cho từng vùng\n",
    "    auc_scores = []\n",
    "    for i in range(len(tpr_thresholds) - 1):\n",
    "        start = tpr_thresholds[i]\n",
    "        end = tpr_thresholds[i+1]\n",
    "        \n",
    "        # Lọc các điểm trong vùng hiện tại\n",
    "        mask = (tpr >= start) & (tpr < end)\n",
    "        auc_scores.append(np.trapz(tpr[mask], fpr[mask]))\n",
    "    \n",
    "    # Tính AUC có trọng số\n",
    "    weighted_auc = np.sum(np.multiply(auc_scores, weights)) / np.sum(weights)\n",
    "    \n",
    "    return weighted_auc\n",
    "\n",
    "def calculate_metrics(model, dataloader, device='cpu'):\n",
    "    model.to(device).eval()\n",
    "    labels, probs, preds = [], [], []\n",
    "\n",
    "    with torch.no_grad():\n",
    "        for images, batch_labels in dataloader:\n",
    "            outputs = model(images.to(device))\n",
    "            batch_probs = F.softmax(outputs, dim=1)[:, 1]\n",
    "            batch_preds = torch.argmax(outputs, dim=1)\n",
    "\n",
    "            labels.extend(batch_labels.cpu().numpy())\n",
    "            probs.extend(batch_probs.cpu().numpy())\n",
    "            preds.extend(batch_preds.cpu().numpy())\n",
    "\n",
    "    labels = np.array(labels)\n",
    "    probs = np.array(probs)\n",
    "    preds = np.array(preds)\n",
    "\n",
    "    return {\n",
    "        'Weighted AUC': weighted_auc(labels, probs),\n",
    "        'Accuracy': accuracy_score(labels, preds)\n",
    "    }"
   ]
  },
  {
   "cell_type": "markdown",
   "metadata": {},
   "source": [
    "## Tiến hành huấn luyện mô hình\n",
    "\n",
    "- Huấn luyện mô hình với hàm lỗi sử dụng Cross Entropy\n",
    "\n",
    "- Quá trình Validation để tính toán các metric, sau cùng là load model tốt nhất và lưu model lại dưới dạng file .pth, file mô hình của PyTorch"
   ]
  },
  {
   "cell_type": "code",
   "execution_count": 11,
   "metadata": {
    "execution": {
     "iopub.execute_input": "2025-03-03T22:16:52.114724Z",
     "iopub.status.busy": "2025-03-03T22:16:52.114320Z",
     "iopub.status.idle": "2025-03-04T00:01:20.638483Z",
     "shell.execute_reply": "2025-03-04T00:01:20.637348Z",
     "shell.execute_reply.started": "2025-03-03T22:16:52.114700Z"
    },
    "trusted": true
   },
   "outputs": [
    {
     "name": "stdout",
     "output_type": "stream",
     "text": [
      "EPOCH:  1\n"
     ]
    },
    {
     "name": "stderr",
     "output_type": "stream",
     "text": [
      "Training: 100%|██████████| 94/94 [05:18<00:00,  3.39s/it]"
     ]
    },
    {
     "name": "stdout",
     "output_type": "stream",
     "text": [
      "Average Training Loss:  0.5157322959696993\n"
     ]
    },
    {
     "name": "stderr",
     "output_type": "stream",
     "text": [
      "\n"
     ]
    },
    {
     "name": "stdout",
     "output_type": "stream",
     "text": [
      "Accuracy:  0.497\n",
      "Weighted AUC:  0.19449666854673434\n",
      "New best model saved with Weighted AUC:  0.19449666854673434\n",
      "\n",
      "EPOCH:  2\n"
     ]
    },
    {
     "name": "stderr",
     "output_type": "stream",
     "text": [
      "Training: 100%|██████████| 94/94 [04:08<00:00,  2.64s/it]"
     ]
    },
    {
     "name": "stdout",
     "output_type": "stream",
     "text": [
      "Average Training Loss:  0.5063681504193772\n"
     ]
    },
    {
     "name": "stderr",
     "output_type": "stream",
     "text": [
      "\n"
     ]
    },
    {
     "name": "stdout",
     "output_type": "stream",
     "text": [
      "Accuracy:  0.497\n",
      "Weighted AUC:  0.1940766163878196\n",
      "\n",
      "EPOCH:  3\n"
     ]
    },
    {
     "name": "stderr",
     "output_type": "stream",
     "text": [
      "Training: 100%|██████████| 94/94 [04:07<00:00,  2.63s/it]"
     ]
    },
    {
     "name": "stdout",
     "output_type": "stream",
     "text": [
      "Average Training Loss:  0.5048897542217945\n"
     ]
    },
    {
     "name": "stderr",
     "output_type": "stream",
     "text": [
      "\n"
     ]
    },
    {
     "name": "stdout",
     "output_type": "stream",
     "text": [
      "Accuracy:  0.497\n",
      "Weighted AUC:  0.1957971042513086\n",
      "New best model saved with Weighted AUC:  0.1957971042513086\n",
      "\n",
      "EPOCH:  4\n"
     ]
    },
    {
     "name": "stderr",
     "output_type": "stream",
     "text": [
      "Training: 100%|██████████| 94/94 [04:08<00:00,  2.64s/it]"
     ]
    },
    {
     "name": "stdout",
     "output_type": "stream",
     "text": [
      "Average Training Loss:  0.5035629469029447\n"
     ]
    },
    {
     "name": "stderr",
     "output_type": "stream",
     "text": [
      "\n"
     ]
    },
    {
     "name": "stdout",
     "output_type": "stream",
     "text": [
      "Accuracy:  0.497\n",
      "Weighted AUC:  0.19630865970434197\n",
      "New best model saved with Weighted AUC:  0.19630865970434197\n",
      "\n",
      "EPOCH:  5\n"
     ]
    },
    {
     "name": "stderr",
     "output_type": "stream",
     "text": [
      "Training: 100%|██████████| 94/94 [04:07<00:00,  2.63s/it]"
     ]
    },
    {
     "name": "stdout",
     "output_type": "stream",
     "text": [
      "Average Training Loss:  0.5026320742165789\n"
     ]
    },
    {
     "name": "stderr",
     "output_type": "stream",
     "text": [
      "\n"
     ]
    },
    {
     "name": "stdout",
     "output_type": "stream",
     "text": [
      "Accuracy:  0.497\n",
      "Weighted AUC:  0.19730249177859294\n",
      "New best model saved with Weighted AUC:  0.19730249177859294\n",
      "\n",
      "EPOCH:  6\n"
     ]
    },
    {
     "name": "stderr",
     "output_type": "stream",
     "text": [
      "Training: 100%|██████████| 94/94 [04:05<00:00,  2.61s/it]"
     ]
    },
    {
     "name": "stdout",
     "output_type": "stream",
     "text": [
      "Average Training Loss:  0.5019340756091666\n"
     ]
    },
    {
     "name": "stderr",
     "output_type": "stream",
     "text": [
      "\n"
     ]
    },
    {
     "name": "stdout",
     "output_type": "stream",
     "text": [
      "Accuracy:  0.497\n",
      "Weighted AUC:  0.195340680412643\n",
      "\n",
      "EPOCH:  7\n"
     ]
    },
    {
     "name": "stderr",
     "output_type": "stream",
     "text": [
      "Training: 100%|██████████| 94/94 [04:05<00:00,  2.61s/it]"
     ]
    },
    {
     "name": "stdout",
     "output_type": "stream",
     "text": [
      "Average Training Loss:  0.5020134880187663\n"
     ]
    },
    {
     "name": "stderr",
     "output_type": "stream",
     "text": [
      "\n"
     ]
    },
    {
     "name": "stdout",
     "output_type": "stream",
     "text": [
      "Accuracy:  0.497\n",
      "Weighted AUC:  0.1953734778896485\n",
      "\n",
      "EPOCH:  8\n"
     ]
    },
    {
     "name": "stderr",
     "output_type": "stream",
     "text": [
      "Training: 100%|██████████| 94/94 [04:06<00:00,  2.62s/it]"
     ]
    },
    {
     "name": "stdout",
     "output_type": "stream",
     "text": [
      "Average Training Loss:  0.5011948163205004\n"
     ]
    },
    {
     "name": "stderr",
     "output_type": "stream",
     "text": [
      "\n"
     ]
    },
    {
     "name": "stdout",
     "output_type": "stream",
     "text": [
      "Accuracy:  0.497\n",
      "Weighted AUC:  0.19457433800950166\n",
      "\n",
      "EPOCH:  9\n"
     ]
    },
    {
     "name": "stderr",
     "output_type": "stream",
     "text": [
      "Training: 100%|██████████| 94/94 [04:08<00:00,  2.64s/it]"
     ]
    },
    {
     "name": "stdout",
     "output_type": "stream",
     "text": [
      "Average Training Loss:  0.5006766293911223\n"
     ]
    },
    {
     "name": "stderr",
     "output_type": "stream",
     "text": [
      "\n"
     ]
    },
    {
     "name": "stdout",
     "output_type": "stream",
     "text": [
      "Accuracy:  0.497\n",
      "Weighted AUC:  0.1941143399680907\n",
      "\n",
      "EPOCH:  10\n"
     ]
    },
    {
     "name": "stderr",
     "output_type": "stream",
     "text": [
      "Training: 100%|██████████| 94/94 [04:03<00:00,  2.59s/it]"
     ]
    },
    {
     "name": "stdout",
     "output_type": "stream",
     "text": [
      "Average Training Loss:  0.4999421032819342\n"
     ]
    },
    {
     "name": "stderr",
     "output_type": "stream",
     "text": [
      "\n"
     ]
    },
    {
     "name": "stdout",
     "output_type": "stream",
     "text": [
      "Accuracy:  0.497\n",
      "Weighted AUC:  0.1934137777108124\n",
      "\n",
      "EPOCH:  11\n"
     ]
    },
    {
     "name": "stderr",
     "output_type": "stream",
     "text": [
      "Training: 100%|██████████| 94/94 [04:04<00:00,  2.60s/it]"
     ]
    },
    {
     "name": "stdout",
     "output_type": "stream",
     "text": [
      "Average Training Loss:  0.500105139105878\n"
     ]
    },
    {
     "name": "stderr",
     "output_type": "stream",
     "text": [
      "\n"
     ]
    },
    {
     "name": "stdout",
     "output_type": "stream",
     "text": [
      "Accuracy:  0.497\n",
      "Weighted AUC:  0.19420004675723881\n",
      "\n",
      "EPOCH:  12\n"
     ]
    },
    {
     "name": "stderr",
     "output_type": "stream",
     "text": [
      "Training: 100%|██████████| 94/94 [04:09<00:00,  2.65s/it]"
     ]
    },
    {
     "name": "stdout",
     "output_type": "stream",
     "text": [
      "Average Training Loss:  0.4995946662223085\n"
     ]
    },
    {
     "name": "stderr",
     "output_type": "stream",
     "text": [
      "\n"
     ]
    },
    {
     "name": "stdout",
     "output_type": "stream",
     "text": [
      "Accuracy:  0.497\n",
      "Weighted AUC:  0.19414980420776629\n",
      "\n",
      "EPOCH:  13\n"
     ]
    },
    {
     "name": "stderr",
     "output_type": "stream",
     "text": [
      "Training: 100%|██████████| 94/94 [04:04<00:00,  2.60s/it]"
     ]
    },
    {
     "name": "stdout",
     "output_type": "stream",
     "text": [
      "Average Training Loss:  0.5002797017706201\n"
     ]
    },
    {
     "name": "stderr",
     "output_type": "stream",
     "text": [
      "\n"
     ]
    },
    {
     "name": "stdout",
     "output_type": "stream",
     "text": [
      "Accuracy:  0.497\n",
      "Weighted AUC:  0.19401887356833733\n",
      "\n",
      "EPOCH:  14\n"
     ]
    },
    {
     "name": "stderr",
     "output_type": "stream",
     "text": [
      "Training: 100%|██████████| 94/94 [04:04<00:00,  2.60s/it]"
     ]
    },
    {
     "name": "stdout",
     "output_type": "stream",
     "text": [
      "Average Training Loss:  0.4993040875551548\n"
     ]
    },
    {
     "name": "stderr",
     "output_type": "stream",
     "text": [
      "\n"
     ]
    },
    {
     "name": "stdout",
     "output_type": "stream",
     "text": [
      "Accuracy:  0.497\n",
      "Weighted AUC:  0.1931318416351878\n",
      "\n",
      "EPOCH:  15\n"
     ]
    },
    {
     "name": "stderr",
     "output_type": "stream",
     "text": [
      "Training: 100%|██████████| 94/94 [04:02<00:00,  2.58s/it]"
     ]
    },
    {
     "name": "stdout",
     "output_type": "stream",
     "text": [
      "Average Training Loss:  0.49958347132865416\n"
     ]
    },
    {
     "name": "stderr",
     "output_type": "stream",
     "text": [
      "\n"
     ]
    },
    {
     "name": "stdout",
     "output_type": "stream",
     "text": [
      "Accuracy:  0.497\n",
      "Weighted AUC:  0.19285390570356828\n",
      "\n",
      "EPOCH:  16\n"
     ]
    },
    {
     "name": "stderr",
     "output_type": "stream",
     "text": [
      "Training: 100%|██████████| 94/94 [04:04<00:00,  2.60s/it]"
     ]
    },
    {
     "name": "stdout",
     "output_type": "stream",
     "text": [
      "Average Training Loss:  0.4992523694292028\n"
     ]
    },
    {
     "name": "stderr",
     "output_type": "stream",
     "text": [
      "\n"
     ]
    },
    {
     "name": "stdout",
     "output_type": "stream",
     "text": [
      "Accuracy:  0.497\n",
      "Weighted AUC:  0.19300846682332415\n",
      "\n",
      "EPOCH:  17\n"
     ]
    },
    {
     "name": "stderr",
     "output_type": "stream",
     "text": [
      "Training: 100%|██████████| 94/94 [04:04<00:00,  2.61s/it]"
     ]
    },
    {
     "name": "stdout",
     "output_type": "stream",
     "text": [
      "Average Training Loss:  0.4993714541196823\n"
     ]
    },
    {
     "name": "stderr",
     "output_type": "stream",
     "text": [
      "\n"
     ]
    },
    {
     "name": "stdout",
     "output_type": "stream",
     "text": [
      "Accuracy:  0.497\n",
      "Weighted AUC:  0.19295231665376988\n",
      "\n",
      "EPOCH:  18\n"
     ]
    },
    {
     "name": "stderr",
     "output_type": "stream",
     "text": [
      "Training: 100%|██████████| 94/94 [04:05<00:00,  2.61s/it]"
     ]
    },
    {
     "name": "stdout",
     "output_type": "stream",
     "text": [
      "Average Training Loss:  0.49930908768735033\n"
     ]
    },
    {
     "name": "stderr",
     "output_type": "stream",
     "text": [
      "\n"
     ]
    },
    {
     "name": "stdout",
     "output_type": "stream",
     "text": [
      "Accuracy:  0.497\n",
      "Weighted AUC:  0.19286962849181088\n",
      "\n",
      "EPOCH:  19\n"
     ]
    },
    {
     "name": "stderr",
     "output_type": "stream",
     "text": [
      "Training: 100%|██████████| 94/94 [04:03<00:00,  2.59s/it]"
     ]
    },
    {
     "name": "stdout",
     "output_type": "stream",
     "text": [
      "Average Training Loss:  0.49812323806133674\n"
     ]
    },
    {
     "name": "stderr",
     "output_type": "stream",
     "text": [
      "\n"
     ]
    },
    {
     "name": "stdout",
     "output_type": "stream",
     "text": [
      "Accuracy:  0.497\n",
      "Weighted AUC:  0.19184373970796278\n",
      "\n",
      "EPOCH:  20\n"
     ]
    },
    {
     "name": "stderr",
     "output_type": "stream",
     "text": [
      "Training: 100%|██████████| 94/94 [04:05<00:00,  2.61s/it]"
     ]
    },
    {
     "name": "stdout",
     "output_type": "stream",
     "text": [
      "Average Training Loss:  0.4987850135311167\n"
     ]
    },
    {
     "name": "stderr",
     "output_type": "stream",
     "text": [
      "\n"
     ]
    },
    {
     "name": "stdout",
     "output_type": "stream",
     "text": [
      "Accuracy:  0.497\n",
      "Weighted AUC:  0.19334621972316926\n",
      "\n",
      "Best model loaded!\n"
     ]
    },
    {
     "name": "stderr",
     "output_type": "stream",
     "text": [
      "<ipython-input-11-f89a33c23439>:46: FutureWarning: You are using `torch.load` with `weights_only=False` (the current default value), which uses the default pickle module implicitly. It is possible to construct malicious pickle data which will execute arbitrary code during unpickling (See https://github.com/pytorch/pytorch/blob/main/SECURITY.md#untrusted-models for more details). In a future release, the default value for `weights_only` will be flipped to `True`. This limits the functions that could be executed during unpickling. Arbitrary objects will no longer be allowed to be loaded via this mode unless they are explicitly allowlisted by the user via `torch.serialization.add_safe_globals`. We recommend you start setting `weights_only=True` for any use case where you don't have full control of the loaded file. Please open an issue on GitHub for any issues related to this experimental feature.\n",
      "  resnet_model.load_state_dict(torch.load('best_model.pth'))\n"
     ]
    }
   ],
   "source": [
    "from tqdm import tqdm\n",
    "train_losses = []  \n",
    "accuracies = []  \n",
    "weighted_aucs = []  \n",
    "best_auc = 0\n",
    "\n",
    "for epoch in range(EPOCHS):\n",
    "    print('EPOCH: ',epoch+1)\n",
    "    \n",
    "    # Training phase\n",
    "    resnet_model.train()\n",
    "    train_loss = 0\n",
    "    for images, labels in tqdm(train_dataloader, desc=\"Training\"):\n",
    "        images, labels = images.to(device), labels.to(device)\n",
    "        \n",
    "        optimizer.zero_grad()\n",
    "        loss = F.cross_entropy(resnet_model(images), labels, weight=WEIGHTS)\n",
    "        loss.backward()\n",
    "        optimizer.step()\n",
    "        \n",
    "        train_loss += loss.item()\n",
    "    avg_train_loss = train_loss / len(train_dataloader)\n",
    "    train_losses.append(avg_train_loss)\n",
    "    print('Average Training Loss: ',avg_train_loss)\n",
    "    \n",
    "    # Validation phase\n",
    "    metrics = calculate_metrics(resnet_model, val_dataloader, device)\n",
    "    acc = metrics['Accuracy']\n",
    "    current_auc = metrics['Weighted AUC']\n",
    "    \n",
    "    accuracies.append(acc)\n",
    "    weighted_aucs.append(current_auc)\n",
    "                        \n",
    "    print('Accuracy: ', acc)\n",
    "    print('Weighted AUC: ', current_auc)\n",
    "\n",
    "    \n",
    "    if current_auc > best_auc:\n",
    "        best_auc = current_auc\n",
    "        torch.save(resnet_model.state_dict(), 'best_model.pth')\n",
    "        print('New best model saved with Weighted AUC: ',best_auc)\n",
    "    \n",
    "    print()\n",
    "\n",
    "# Load best model\n",
    "resnet_model.load_state_dict(torch.load('best_model.pth'))\n",
    "print(\"Best model loaded!\")"
   ]
  },
  {
   "cell_type": "markdown",
   "metadata": {},
   "source": [
    "## Vẽ biểu đồ cho 3 thang điểm bao gồm Loss, Accuracy và Weighted AUC"
   ]
  },
  {
   "cell_type": "code",
   "execution_count": 12,
   "metadata": {
    "execution": {
     "iopub.execute_input": "2025-03-04T00:01:20.640045Z",
     "iopub.status.busy": "2025-03-04T00:01:20.639757Z",
     "iopub.status.idle": "2025-03-04T00:01:21.470714Z",
     "shell.execute_reply": "2025-03-04T00:01:21.469760Z",
     "shell.execute_reply.started": "2025-03-04T00:01:20.640019Z"
    },
    "trusted": true
   },
   "outputs": [
    {
     "data": {
      "image/png": "[encoded data removed]",
      "text/plain": [
       "<Figure size 1200x400 with 3 Axes>"
      ]
     },
     "metadata": {},
     "output_type": "display_data"
    }
   ],
   "source": [
    "import matplotlib.pyplot as plt\n",
    "\n",
    "plt.figure(figsize=(12, 4))\n",
    "\n",
    "# Plot Loss\n",
    "plt.subplot(1, 3, 1)\n",
    "plt.plot(range(1, EPOCHS+1), train_losses, marker='o', label='Training Loss')\n",
    "plt.xlabel('Epoch')\n",
    "plt.ylabel('Loss')\n",
    "plt.title('Loss per Epoch')\n",
    "plt.legend()\n",
    "\n",
    "# Plot Accuracy\n",
    "plt.subplot(1, 3, 2)\n",
    "plt.plot(range(1, EPOCHS+1), accuracies, marker='o', label='Accuracy', color='green')\n",
    "plt.xlabel('Epoch')\n",
    "plt.ylabel('Accuracy')\n",
    "plt.title('Accuracy per Epoch')\n",
    "plt.legend()\n",
    "\n",
    "# Plot Weighted AUC\n",
    "plt.subplot(1, 3, 3)\n",
    "plt.plot(range(1, EPOCHS+1), weighted_aucs, marker='o', label='Weighted AUC', color='red')\n",
    "plt.xlabel('Epoch')\n",
    "plt.ylabel('AUC')\n",
    "plt.title('Weighted AUC per Epoch')\n",
    "plt.legend()\n",
    "\n",
    "plt.tight_layout()\n",
    "plt.show()"
   ]
  },
  {
   "cell_type": "markdown",
   "metadata": {},
   "source": [
    "## Tiến hành dự đoán\n",
    "\n",
    "- Hàm predict đưa ra dự đoán cho hình ảnh, output là xác suất hình ảnh đó có mật mã hay không.\n",
    "\n",
    "- Sắp xếp lại tên của hình ảnh theo thứ tự tăng dần, sau đó lưu vào file submission.csv"
   ]
  },
  {
   "cell_type": "code",
   "execution_count": 13,
   "metadata": {
    "execution": {
     "iopub.execute_input": "2025-03-04T00:01:21.473308Z",
     "iopub.status.busy": "2025-03-04T00:01:21.473057Z",
     "iopub.status.idle": "2025-03-04T00:02:37.393038Z",
     "shell.execute_reply": "2025-03-04T00:02:37.392257Z",
     "shell.execute_reply.started": "2025-03-04T00:01:21.473289Z"
    },
    "trusted": true
   },
   "outputs": [
    {
     "name": "stdout",
     "output_type": "stream",
     "text": [
      "Predicting...\n",
      "Finish.\n",
      "Submission file created: submission.csv\n"
     ]
    },
    {
     "data": {
      "text/html": [
       "<div>\n",
       "<style scoped>\n",
       "    .dataframe tbody tr th:only-of-type {\n",
       "        vertical-align: middle;\n",
       "    }\n",
       "\n",
       "    .dataframe tbody tr th {\n",
       "        vertical-align: top;\n",
       "    }\n",
       "\n",
       "    .dataframe thead th {\n",
       "        text-align: right;\n",
       "    }\n",
       "</style>\n",
       "<table border=\"1\" class=\"dataframe\">\n",
       "  <thead>\n",
       "    <tr style=\"text-align: right;\">\n",
       "      <th></th>\n",
       "      <th>Id</th>\n",
       "      <th>Label</th>\n",
       "    </tr>\n",
       "  </thead>\n",
       "  <tbody>\n",
       "    <tr>\n",
       "      <th>4946</th>\n",
       "      <td>0001.jpg</td>\n",
       "      <td>0.133308</td>\n",
       "    </tr>\n",
       "    <tr>\n",
       "      <th>1370</th>\n",
       "      <td>0002.jpg</td>\n",
       "      <td>0.238156</td>\n",
       "    </tr>\n",
       "    <tr>\n",
       "      <th>1444</th>\n",
       "      <td>0003.jpg</td>\n",
       "      <td>0.173673</td>\n",
       "    </tr>\n",
       "    <tr>\n",
       "      <th>3709</th>\n",
       "      <td>0004.jpg</td>\n",
       "      <td>0.188246</td>\n",
       "    </tr>\n",
       "    <tr>\n",
       "      <th>765</th>\n",
       "      <td>0005.jpg</td>\n",
       "      <td>0.199053</td>\n",
       "    </tr>\n",
       "    <tr>\n",
       "      <th>...</th>\n",
       "      <td>...</td>\n",
       "      <td>...</td>\n",
       "    </tr>\n",
       "    <tr>\n",
       "      <th>2823</th>\n",
       "      <td>4996.jpg</td>\n",
       "      <td>0.224104</td>\n",
       "    </tr>\n",
       "    <tr>\n",
       "      <th>3011</th>\n",
       "      <td>4997.jpg</td>\n",
       "      <td>0.166668</td>\n",
       "    </tr>\n",
       "    <tr>\n",
       "      <th>4905</th>\n",
       "      <td>4998.jpg</td>\n",
       "      <td>0.210832</td>\n",
       "    </tr>\n",
       "    <tr>\n",
       "      <th>2644</th>\n",
       "      <td>4999.jpg</td>\n",
       "      <td>0.217430</td>\n",
       "    </tr>\n",
       "    <tr>\n",
       "      <th>3617</th>\n",
       "      <td>5000.jpg</td>\n",
       "      <td>0.230569</td>\n",
       "    </tr>\n",
       "  </tbody>\n",
       "</table>\n",
       "<p>5000 rows × 2 columns</p>\n",
       "</div>"
      ],
      "text/plain": [
       "            Id     Label\n",
       "4946  0001.jpg  0.133308\n",
       "1370  0002.jpg  0.238156\n",
       "1444  0003.jpg  0.173673\n",
       "3709  0004.jpg  0.188246\n",
       "765   0005.jpg  0.199053\n",
       "...        ...       ...\n",
       "2823  4996.jpg  0.224104\n",
       "3011  4997.jpg  0.166668\n",
       "4905  4998.jpg  0.210832\n",
       "2644  4999.jpg  0.217430\n",
       "3617  5000.jpg  0.230569\n",
       "\n",
       "[5000 rows x 2 columns]"
      ]
     },
     "execution_count": 13,
     "metadata": {},
     "output_type": "execute_result"
    }
   ],
   "source": [
    "def predict(model, test_dataloader, device):\n",
    "    model.eval()\n",
    "    predictions = []\n",
    "\n",
    "    with torch.no_grad():\n",
    "        for images, _ in test_dataloader:\n",
    "            images = images.to(device)\n",
    "            outputs = model(images)\n",
    "            scores = F.softmax(outputs, dim=1)[:, 1]  # Probability of being a stego image\n",
    "            predictions.extend(scores.cpu().numpy())\n",
    "\n",
    "    return predictions\n",
    "\n",
    "\n",
    "test_dataset = reader(test['path'].tolist(), test['label'].tolist())\n",
    "\n",
    "test_dataloader = DataLoader(test_dataset, batch_size=BATCHSIZE, shuffle=False, num_workers=2, pin_memory=True)\n",
    "\n",
    "print(\"Predicting...\")\n",
    "test_predictions = predict(resnet_model, test_dataloader, device)\n",
    "print(\"Finish.\")\n",
    "\n",
    "test_image_ids = [os.path.basename(path) for path in test_dataloader.dataset.image_paths]\n",
    "submission_df = pd.DataFrame({\n",
    "    'Id': test_image_ids,\n",
    "    'Label': test_predictions\n",
    "})\n",
    "\n",
    "submission_df['Id'] = submission_df['Id'].str.replace('.jpg', '').astype(int)\n",
    "submission_df = submission_df.sort_values(by='Id')\n",
    "submission_df['Id'] = submission_df['Id'].astype(str).str.zfill(4) + '.jpg'\n",
    "\n",
    "# Save submission file\n",
    "submission_df.to_csv('submission.csv', index=False)\n",
    "print(\"Submission file created: submission.csv\")\n",
    "submission_df\n"
   ]
  },
  {
   "cell_type": "markdown",
   "metadata": {},
   "source": [
    "## Nhận xét\n",
    "\n",
    "- Dựa vào các biểu đồ ở trên, ta thấy được trong quá trình train, độ mất mát giảm liên tục, trong khi độ chính xác giữ nguyên ở mức 0.497 và Weighted AUC biến động nhiều. Tuy nhiên, đối với các giá trị của các thang điểm thì ta thấy mô hình đang thật sự không tốt vì loss tuy có giảm nhưng vẫn còn rất cao, độ chính xác ở mức 0.5 và đặc biệt là Weighted AUC rất thấp, xung quanh 0.195.\n",
    "\n",
    "- Sau khi dự đoán thì kết quả đưa ra khá thấp, hình ảnh nào cũng có xác suất chứa mật mã thấp, quanh mức 0.23, chứng tỏ mô hình chưa làm tốt được trong việc phát hiện mật mã.\n",
    "\n",
    "=> Do đó, mô hình ResNet50 không tốt cho bài toán này "
   ]
  }
 ],
 "metadata": {
  "kaggle": {
   "accelerator": "nvidiaTeslaT4",
   "dataSources": [
    {
     "databundleVersionId": 1117522,
     "sourceId": 19991,
     "sourceType": "competition"
    }
   ],
   "dockerImageVersionId": 30918,
   "isGpuEnabled": true,
   "isInternetEnabled": true,
   "language": "python",
   "sourceType": "notebook"
  },
  "kernelspec": {
   "display_name": "Python 3",
   "language": "python",
   "name": "python3"
  },
  "language_info": {
   "codemirror_mode": {
    "name": "ipython",
    "version": 3
   },
   "file_extension": ".py",
   "mimetype": "text/x-python",
   "name": "python",
   "nbconvert_exporter": "python",
   "pygments_lexer": "ipython3",
   "version": "3.10.12"
  }
 },
 "nbformat": 4,
 "nbformat_minor": 4
}
